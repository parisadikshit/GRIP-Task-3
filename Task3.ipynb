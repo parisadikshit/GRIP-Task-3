{
 "cells": [
  {
   "cell_type": "markdown",
   "metadata": {},
   "source": [
    "# Exploratory Data Analysis - Retail"
   ]
  },
  {
   "cell_type": "markdown",
   "metadata": {},
   "source": [
    "## Performing ‘Exploratory Data Analysis’ on dataset ‘SampleSuperstore’"
   ]
  },
  {
   "cell_type": "code",
   "execution_count": 1,
   "metadata": {},
   "outputs": [],
   "source": [
    "# importing necessary modules\n",
    "import pandas as pd\n",
    "import matplotlib.pyplot as plt\n",
    "import numpy as np\n",
    "import seaborn as sns\n",
    "%matplotlib inline"
   ]
  },
  {
   "cell_type": "code",
   "execution_count": 2,
   "metadata": {},
   "outputs": [],
   "source": [
    "import warnings\n",
    "warnings.filterwarnings('ignore')"
   ]
  },
  {
   "cell_type": "code",
   "execution_count": 3,
   "metadata": {},
   "outputs": [
    {
     "data": {
      "text/html": [
       "<svg  width=\"550\" height=\"55\"><rect x=\"0\" y=\"0\" width=\"55\" height=\"55\" style=\"fill:#1f77b4;stroke-width:2;stroke:rgb(255,255,255)\"/><rect x=\"55\" y=\"0\" width=\"55\" height=\"55\" style=\"fill:#ff7f0e;stroke-width:2;stroke:rgb(255,255,255)\"/><rect x=\"110\" y=\"0\" width=\"55\" height=\"55\" style=\"fill:#2ca02c;stroke-width:2;stroke:rgb(255,255,255)\"/><rect x=\"165\" y=\"0\" width=\"55\" height=\"55\" style=\"fill:#d62728;stroke-width:2;stroke:rgb(255,255,255)\"/><rect x=\"220\" y=\"0\" width=\"55\" height=\"55\" style=\"fill:#9467bd;stroke-width:2;stroke:rgb(255,255,255)\"/><rect x=\"275\" y=\"0\" width=\"55\" height=\"55\" style=\"fill:#8c564b;stroke-width:2;stroke:rgb(255,255,255)\"/><rect x=\"330\" y=\"0\" width=\"55\" height=\"55\" style=\"fill:#e377c2;stroke-width:2;stroke:rgb(255,255,255)\"/><rect x=\"385\" y=\"0\" width=\"55\" height=\"55\" style=\"fill:#7f7f7f;stroke-width:2;stroke:rgb(255,255,255)\"/><rect x=\"440\" y=\"0\" width=\"55\" height=\"55\" style=\"fill:#bcbd22;stroke-width:2;stroke:rgb(255,255,255)\"/><rect x=\"495\" y=\"0\" width=\"55\" height=\"55\" style=\"fill:#17becf;stroke-width:2;stroke:rgb(255,255,255)\"/></svg>"
      ],
      "text/plain": [
       "[(0.12156862745098039, 0.4666666666666667, 0.7058823529411765),\n",
       " (1.0, 0.4980392156862745, 0.054901960784313725),\n",
       " (0.17254901960784313, 0.6274509803921569, 0.17254901960784313),\n",
       " (0.8392156862745098, 0.15294117647058825, 0.1568627450980392),\n",
       " (0.5803921568627451, 0.403921568627451, 0.7411764705882353),\n",
       " (0.5490196078431373, 0.33725490196078434, 0.29411764705882354),\n",
       " (0.8901960784313725, 0.4666666666666667, 0.7607843137254902),\n",
       " (0.4980392156862745, 0.4980392156862745, 0.4980392156862745),\n",
       " (0.7372549019607844, 0.7411764705882353, 0.13333333333333333),\n",
       " (0.09019607843137255, 0.7450980392156863, 0.8117647058823529)]"
      ]
     },
     "execution_count": 3,
     "metadata": {},
     "output_type": "execute_result"
    }
   ],
   "source": [
    "sns.color_palette(\"tab10\")"
   ]
  },
  {
   "cell_type": "code",
   "execution_count": 4,
   "metadata": {},
   "outputs": [],
   "source": [
    "#loading data\n",
    "data = pd.read_csv('./data/SampleSuperstore.csv')"
   ]
  },
  {
   "cell_type": "code",
   "execution_count": 5,
   "metadata": {},
   "outputs": [
    {
     "data": {
      "text/html": [
       "<div>\n",
       "<style scoped>\n",
       "    .dataframe tbody tr th:only-of-type {\n",
       "        vertical-align: middle;\n",
       "    }\n",
       "\n",
       "    .dataframe tbody tr th {\n",
       "        vertical-align: top;\n",
       "    }\n",
       "\n",
       "    .dataframe thead th {\n",
       "        text-align: right;\n",
       "    }\n",
       "</style>\n",
       "<table border=\"1\" class=\"dataframe\">\n",
       "  <thead>\n",
       "    <tr style=\"text-align: right;\">\n",
       "      <th></th>\n",
       "      <th>Ship Mode</th>\n",
       "      <th>Segment</th>\n",
       "      <th>Country</th>\n",
       "      <th>City</th>\n",
       "      <th>State</th>\n",
       "      <th>Postal Code</th>\n",
       "      <th>Region</th>\n",
       "      <th>Category</th>\n",
       "      <th>Sub-Category</th>\n",
       "      <th>Sales</th>\n",
       "      <th>Quantity</th>\n",
       "      <th>Discount</th>\n",
       "      <th>Profit</th>\n",
       "    </tr>\n",
       "  </thead>\n",
       "  <tbody>\n",
       "    <tr>\n",
       "      <th>0</th>\n",
       "      <td>Second Class</td>\n",
       "      <td>Consumer</td>\n",
       "      <td>United States</td>\n",
       "      <td>Henderson</td>\n",
       "      <td>Kentucky</td>\n",
       "      <td>42420</td>\n",
       "      <td>South</td>\n",
       "      <td>Furniture</td>\n",
       "      <td>Bookcases</td>\n",
       "      <td>261.9600</td>\n",
       "      <td>2</td>\n",
       "      <td>0.00</td>\n",
       "      <td>41.9136</td>\n",
       "    </tr>\n",
       "    <tr>\n",
       "      <th>1</th>\n",
       "      <td>Second Class</td>\n",
       "      <td>Consumer</td>\n",
       "      <td>United States</td>\n",
       "      <td>Henderson</td>\n",
       "      <td>Kentucky</td>\n",
       "      <td>42420</td>\n",
       "      <td>South</td>\n",
       "      <td>Furniture</td>\n",
       "      <td>Chairs</td>\n",
       "      <td>731.9400</td>\n",
       "      <td>3</td>\n",
       "      <td>0.00</td>\n",
       "      <td>219.5820</td>\n",
       "    </tr>\n",
       "    <tr>\n",
       "      <th>2</th>\n",
       "      <td>Second Class</td>\n",
       "      <td>Corporate</td>\n",
       "      <td>United States</td>\n",
       "      <td>Los Angeles</td>\n",
       "      <td>California</td>\n",
       "      <td>90036</td>\n",
       "      <td>West</td>\n",
       "      <td>Office Supplies</td>\n",
       "      <td>Labels</td>\n",
       "      <td>14.6200</td>\n",
       "      <td>2</td>\n",
       "      <td>0.00</td>\n",
       "      <td>6.8714</td>\n",
       "    </tr>\n",
       "    <tr>\n",
       "      <th>3</th>\n",
       "      <td>Standard Class</td>\n",
       "      <td>Consumer</td>\n",
       "      <td>United States</td>\n",
       "      <td>Fort Lauderdale</td>\n",
       "      <td>Florida</td>\n",
       "      <td>33311</td>\n",
       "      <td>South</td>\n",
       "      <td>Furniture</td>\n",
       "      <td>Tables</td>\n",
       "      <td>957.5775</td>\n",
       "      <td>5</td>\n",
       "      <td>0.45</td>\n",
       "      <td>-383.0310</td>\n",
       "    </tr>\n",
       "    <tr>\n",
       "      <th>4</th>\n",
       "      <td>Standard Class</td>\n",
       "      <td>Consumer</td>\n",
       "      <td>United States</td>\n",
       "      <td>Fort Lauderdale</td>\n",
       "      <td>Florida</td>\n",
       "      <td>33311</td>\n",
       "      <td>South</td>\n",
       "      <td>Office Supplies</td>\n",
       "      <td>Storage</td>\n",
       "      <td>22.3680</td>\n",
       "      <td>2</td>\n",
       "      <td>0.20</td>\n",
       "      <td>2.5164</td>\n",
       "    </tr>\n",
       "  </tbody>\n",
       "</table>\n",
       "</div>"
      ],
      "text/plain": [
       "        Ship Mode    Segment        Country             City       State  \\\n",
       "0    Second Class   Consumer  United States        Henderson    Kentucky   \n",
       "1    Second Class   Consumer  United States        Henderson    Kentucky   \n",
       "2    Second Class  Corporate  United States      Los Angeles  California   \n",
       "3  Standard Class   Consumer  United States  Fort Lauderdale     Florida   \n",
       "4  Standard Class   Consumer  United States  Fort Lauderdale     Florida   \n",
       "\n",
       "   Postal Code Region         Category Sub-Category     Sales  Quantity  \\\n",
       "0        42420  South        Furniture    Bookcases  261.9600         2   \n",
       "1        42420  South        Furniture       Chairs  731.9400         3   \n",
       "2        90036   West  Office Supplies       Labels   14.6200         2   \n",
       "3        33311  South        Furniture       Tables  957.5775         5   \n",
       "4        33311  South  Office Supplies      Storage   22.3680         2   \n",
       "\n",
       "   Discount    Profit  \n",
       "0      0.00   41.9136  \n",
       "1      0.00  219.5820  \n",
       "2      0.00    6.8714  \n",
       "3      0.45 -383.0310  \n",
       "4      0.20    2.5164  "
      ]
     },
     "execution_count": 5,
     "metadata": {},
     "output_type": "execute_result"
    }
   ],
   "source": [
    "# first five rows\n",
    "data.head()"
   ]
  },
  {
   "cell_type": "code",
   "execution_count": 6,
   "metadata": {},
   "outputs": [
    {
     "data": {
      "text/html": [
       "<div>\n",
       "<style scoped>\n",
       "    .dataframe tbody tr th:only-of-type {\n",
       "        vertical-align: middle;\n",
       "    }\n",
       "\n",
       "    .dataframe tbody tr th {\n",
       "        vertical-align: top;\n",
       "    }\n",
       "\n",
       "    .dataframe thead th {\n",
       "        text-align: right;\n",
       "    }\n",
       "</style>\n",
       "<table border=\"1\" class=\"dataframe\">\n",
       "  <thead>\n",
       "    <tr style=\"text-align: right;\">\n",
       "      <th></th>\n",
       "      <th>Ship Mode</th>\n",
       "      <th>Segment</th>\n",
       "      <th>Country</th>\n",
       "      <th>City</th>\n",
       "      <th>State</th>\n",
       "      <th>Postal Code</th>\n",
       "      <th>Region</th>\n",
       "      <th>Category</th>\n",
       "      <th>Sub-Category</th>\n",
       "      <th>Sales</th>\n",
       "      <th>Quantity</th>\n",
       "      <th>Discount</th>\n",
       "      <th>Profit</th>\n",
       "    </tr>\n",
       "  </thead>\n",
       "  <tbody>\n",
       "    <tr>\n",
       "      <th>9989</th>\n",
       "      <td>Second Class</td>\n",
       "      <td>Consumer</td>\n",
       "      <td>United States</td>\n",
       "      <td>Miami</td>\n",
       "      <td>Florida</td>\n",
       "      <td>33180</td>\n",
       "      <td>South</td>\n",
       "      <td>Furniture</td>\n",
       "      <td>Furnishings</td>\n",
       "      <td>25.248</td>\n",
       "      <td>3</td>\n",
       "      <td>0.2</td>\n",
       "      <td>4.1028</td>\n",
       "    </tr>\n",
       "    <tr>\n",
       "      <th>9990</th>\n",
       "      <td>Standard Class</td>\n",
       "      <td>Consumer</td>\n",
       "      <td>United States</td>\n",
       "      <td>Costa Mesa</td>\n",
       "      <td>California</td>\n",
       "      <td>92627</td>\n",
       "      <td>West</td>\n",
       "      <td>Furniture</td>\n",
       "      <td>Furnishings</td>\n",
       "      <td>91.960</td>\n",
       "      <td>2</td>\n",
       "      <td>0.0</td>\n",
       "      <td>15.6332</td>\n",
       "    </tr>\n",
       "    <tr>\n",
       "      <th>9991</th>\n",
       "      <td>Standard Class</td>\n",
       "      <td>Consumer</td>\n",
       "      <td>United States</td>\n",
       "      <td>Costa Mesa</td>\n",
       "      <td>California</td>\n",
       "      <td>92627</td>\n",
       "      <td>West</td>\n",
       "      <td>Technology</td>\n",
       "      <td>Phones</td>\n",
       "      <td>258.576</td>\n",
       "      <td>2</td>\n",
       "      <td>0.2</td>\n",
       "      <td>19.3932</td>\n",
       "    </tr>\n",
       "    <tr>\n",
       "      <th>9992</th>\n",
       "      <td>Standard Class</td>\n",
       "      <td>Consumer</td>\n",
       "      <td>United States</td>\n",
       "      <td>Costa Mesa</td>\n",
       "      <td>California</td>\n",
       "      <td>92627</td>\n",
       "      <td>West</td>\n",
       "      <td>Office Supplies</td>\n",
       "      <td>Paper</td>\n",
       "      <td>29.600</td>\n",
       "      <td>4</td>\n",
       "      <td>0.0</td>\n",
       "      <td>13.3200</td>\n",
       "    </tr>\n",
       "    <tr>\n",
       "      <th>9993</th>\n",
       "      <td>Second Class</td>\n",
       "      <td>Consumer</td>\n",
       "      <td>United States</td>\n",
       "      <td>Westminster</td>\n",
       "      <td>California</td>\n",
       "      <td>92683</td>\n",
       "      <td>West</td>\n",
       "      <td>Office Supplies</td>\n",
       "      <td>Appliances</td>\n",
       "      <td>243.160</td>\n",
       "      <td>2</td>\n",
       "      <td>0.0</td>\n",
       "      <td>72.9480</td>\n",
       "    </tr>\n",
       "  </tbody>\n",
       "</table>\n",
       "</div>"
      ],
      "text/plain": [
       "           Ship Mode   Segment        Country         City       State  \\\n",
       "9989    Second Class  Consumer  United States        Miami     Florida   \n",
       "9990  Standard Class  Consumer  United States   Costa Mesa  California   \n",
       "9991  Standard Class  Consumer  United States   Costa Mesa  California   \n",
       "9992  Standard Class  Consumer  United States   Costa Mesa  California   \n",
       "9993    Second Class  Consumer  United States  Westminster  California   \n",
       "\n",
       "      Postal Code Region         Category Sub-Category    Sales  Quantity  \\\n",
       "9989        33180  South        Furniture  Furnishings   25.248         3   \n",
       "9990        92627   West        Furniture  Furnishings   91.960         2   \n",
       "9991        92627   West       Technology       Phones  258.576         2   \n",
       "9992        92627   West  Office Supplies        Paper   29.600         4   \n",
       "9993        92683   West  Office Supplies   Appliances  243.160         2   \n",
       "\n",
       "      Discount   Profit  \n",
       "9989       0.2   4.1028  \n",
       "9990       0.0  15.6332  \n",
       "9991       0.2  19.3932  \n",
       "9992       0.0  13.3200  \n",
       "9993       0.0  72.9480  "
      ]
     },
     "execution_count": 6,
     "metadata": {},
     "output_type": "execute_result"
    }
   ],
   "source": [
    "# last five rows\n",
    "data.tail()"
   ]
  },
  {
   "cell_type": "code",
   "execution_count": 7,
   "metadata": {},
   "outputs": [
    {
     "data": {
      "text/plain": [
       "(9994, 13)"
      ]
     },
     "execution_count": 7,
     "metadata": {},
     "output_type": "execute_result"
    }
   ],
   "source": [
    "data.shape"
   ]
  },
  {
   "cell_type": "code",
   "execution_count": 8,
   "metadata": {},
   "outputs": [
    {
     "data": {
      "text/html": [
       "<div>\n",
       "<style scoped>\n",
       "    .dataframe tbody tr th:only-of-type {\n",
       "        vertical-align: middle;\n",
       "    }\n",
       "\n",
       "    .dataframe tbody tr th {\n",
       "        vertical-align: top;\n",
       "    }\n",
       "\n",
       "    .dataframe thead th {\n",
       "        text-align: right;\n",
       "    }\n",
       "</style>\n",
       "<table border=\"1\" class=\"dataframe\">\n",
       "  <thead>\n",
       "    <tr style=\"text-align: right;\">\n",
       "      <th></th>\n",
       "      <th>Postal Code</th>\n",
       "      <th>Sales</th>\n",
       "      <th>Quantity</th>\n",
       "      <th>Discount</th>\n",
       "      <th>Profit</th>\n",
       "    </tr>\n",
       "  </thead>\n",
       "  <tbody>\n",
       "    <tr>\n",
       "      <th>count</th>\n",
       "      <td>9994.000000</td>\n",
       "      <td>9994.000000</td>\n",
       "      <td>9994.000000</td>\n",
       "      <td>9994.000000</td>\n",
       "      <td>9994.000000</td>\n",
       "    </tr>\n",
       "    <tr>\n",
       "      <th>mean</th>\n",
       "      <td>55190.379428</td>\n",
       "      <td>229.858001</td>\n",
       "      <td>3.789574</td>\n",
       "      <td>0.156203</td>\n",
       "      <td>28.656896</td>\n",
       "    </tr>\n",
       "    <tr>\n",
       "      <th>std</th>\n",
       "      <td>32063.693350</td>\n",
       "      <td>623.245101</td>\n",
       "      <td>2.225110</td>\n",
       "      <td>0.206452</td>\n",
       "      <td>234.260108</td>\n",
       "    </tr>\n",
       "    <tr>\n",
       "      <th>min</th>\n",
       "      <td>1040.000000</td>\n",
       "      <td>0.444000</td>\n",
       "      <td>1.000000</td>\n",
       "      <td>0.000000</td>\n",
       "      <td>-6599.978000</td>\n",
       "    </tr>\n",
       "    <tr>\n",
       "      <th>25%</th>\n",
       "      <td>23223.000000</td>\n",
       "      <td>17.280000</td>\n",
       "      <td>2.000000</td>\n",
       "      <td>0.000000</td>\n",
       "      <td>1.728750</td>\n",
       "    </tr>\n",
       "    <tr>\n",
       "      <th>50%</th>\n",
       "      <td>56430.500000</td>\n",
       "      <td>54.490000</td>\n",
       "      <td>3.000000</td>\n",
       "      <td>0.200000</td>\n",
       "      <td>8.666500</td>\n",
       "    </tr>\n",
       "    <tr>\n",
       "      <th>75%</th>\n",
       "      <td>90008.000000</td>\n",
       "      <td>209.940000</td>\n",
       "      <td>5.000000</td>\n",
       "      <td>0.200000</td>\n",
       "      <td>29.364000</td>\n",
       "    </tr>\n",
       "    <tr>\n",
       "      <th>max</th>\n",
       "      <td>99301.000000</td>\n",
       "      <td>22638.480000</td>\n",
       "      <td>14.000000</td>\n",
       "      <td>0.800000</td>\n",
       "      <td>8399.976000</td>\n",
       "    </tr>\n",
       "  </tbody>\n",
       "</table>\n",
       "</div>"
      ],
      "text/plain": [
       "        Postal Code         Sales     Quantity     Discount       Profit\n",
       "count   9994.000000   9994.000000  9994.000000  9994.000000  9994.000000\n",
       "mean   55190.379428    229.858001     3.789574     0.156203    28.656896\n",
       "std    32063.693350    623.245101     2.225110     0.206452   234.260108\n",
       "min     1040.000000      0.444000     1.000000     0.000000 -6599.978000\n",
       "25%    23223.000000     17.280000     2.000000     0.000000     1.728750\n",
       "50%    56430.500000     54.490000     3.000000     0.200000     8.666500\n",
       "75%    90008.000000    209.940000     5.000000     0.200000    29.364000\n",
       "max    99301.000000  22638.480000    14.000000     0.800000  8399.976000"
      ]
     },
     "execution_count": 8,
     "metadata": {},
     "output_type": "execute_result"
    }
   ],
   "source": [
    "# statistical overview of the data\n",
    "data.describe()"
   ]
  },
  {
   "cell_type": "code",
   "execution_count": 9,
   "metadata": {},
   "outputs": [
    {
     "data": {
      "text/plain": [
       "Index(['Ship Mode', 'Segment', 'Country', 'City', 'State', 'Postal Code',\n",
       "       'Region', 'Category', 'Sub-Category', 'Sales', 'Quantity', 'Discount',\n",
       "       'Profit'],\n",
       "      dtype='object')"
      ]
     },
     "execution_count": 9,
     "metadata": {},
     "output_type": "execute_result"
    }
   ],
   "source": [
    "# columns inside the dataset\n",
    "data.columns"
   ]
  },
  {
   "cell_type": "code",
   "execution_count": 10,
   "metadata": {},
   "outputs": [
    {
     "name": "stdout",
     "output_type": "stream",
     "text": [
      "<class 'pandas.core.frame.DataFrame'>\n",
      "RangeIndex: 9994 entries, 0 to 9993\n",
      "Data columns (total 13 columns):\n",
      " #   Column        Non-Null Count  Dtype  \n",
      "---  ------        --------------  -----  \n",
      " 0   Ship Mode     9994 non-null   object \n",
      " 1   Segment       9994 non-null   object \n",
      " 2   Country       9994 non-null   object \n",
      " 3   City          9994 non-null   object \n",
      " 4   State         9994 non-null   object \n",
      " 5   Postal Code   9994 non-null   int64  \n",
      " 6   Region        9994 non-null   object \n",
      " 7   Category      9994 non-null   object \n",
      " 8   Sub-Category  9994 non-null   object \n",
      " 9   Sales         9994 non-null   float64\n",
      " 10  Quantity      9994 non-null   int64  \n",
      " 11  Discount      9994 non-null   float64\n",
      " 12  Profit        9994 non-null   float64\n",
      "dtypes: float64(3), int64(2), object(8)\n",
      "memory usage: 1015.1+ KB\n"
     ]
    }
   ],
   "source": [
    "# overall info about data\n",
    "data.info()"
   ]
  },
  {
   "cell_type": "code",
   "execution_count": 11,
   "metadata": {},
   "outputs": [
    {
     "data": {
      "text/plain": [
       "United States    9994\n",
       "Name: Country, dtype: int64"
      ]
     },
     "execution_count": 11,
     "metadata": {},
     "output_type": "execute_result"
    }
   ],
   "source": [
    "data['Country'].value_counts()"
   ]
  },
  {
   "cell_type": "code",
   "execution_count": 12,
   "metadata": {},
   "outputs": [],
   "source": [
    "#Calculating Cost \n",
    "data['Cost']=data['Sales']-data['Profit']\n",
    "\n",
    "#Calculating Profit%\n",
    "data['Profit%']=(data['Profit']/data['Cost'])*100"
   ]
  },
  {
   "cell_type": "code",
   "execution_count": 13,
   "metadata": {},
   "outputs": [
    {
     "data": {
      "text/html": [
       "<div>\n",
       "<style scoped>\n",
       "    .dataframe tbody tr th:only-of-type {\n",
       "        vertical-align: middle;\n",
       "    }\n",
       "\n",
       "    .dataframe tbody tr th {\n",
       "        vertical-align: top;\n",
       "    }\n",
       "\n",
       "    .dataframe thead th {\n",
       "        text-align: right;\n",
       "    }\n",
       "</style>\n",
       "<table border=\"1\" class=\"dataframe\">\n",
       "  <thead>\n",
       "    <tr style=\"text-align: right;\">\n",
       "      <th></th>\n",
       "      <th>Ship Mode</th>\n",
       "      <th>Segment</th>\n",
       "      <th>Country</th>\n",
       "      <th>City</th>\n",
       "      <th>State</th>\n",
       "      <th>Postal Code</th>\n",
       "      <th>Region</th>\n",
       "      <th>Category</th>\n",
       "      <th>Sub-Category</th>\n",
       "      <th>Sales</th>\n",
       "      <th>Quantity</th>\n",
       "      <th>Discount</th>\n",
       "      <th>Profit</th>\n",
       "      <th>Cost</th>\n",
       "      <th>Profit%</th>\n",
       "    </tr>\n",
       "  </thead>\n",
       "  <tbody>\n",
       "    <tr>\n",
       "      <th>0</th>\n",
       "      <td>Second Class</td>\n",
       "      <td>Consumer</td>\n",
       "      <td>United States</td>\n",
       "      <td>Henderson</td>\n",
       "      <td>Kentucky</td>\n",
       "      <td>42420</td>\n",
       "      <td>South</td>\n",
       "      <td>Furniture</td>\n",
       "      <td>Bookcases</td>\n",
       "      <td>261.9600</td>\n",
       "      <td>2</td>\n",
       "      <td>0.00</td>\n",
       "      <td>41.9136</td>\n",
       "      <td>220.0464</td>\n",
       "      <td>19.047619</td>\n",
       "    </tr>\n",
       "    <tr>\n",
       "      <th>1</th>\n",
       "      <td>Second Class</td>\n",
       "      <td>Consumer</td>\n",
       "      <td>United States</td>\n",
       "      <td>Henderson</td>\n",
       "      <td>Kentucky</td>\n",
       "      <td>42420</td>\n",
       "      <td>South</td>\n",
       "      <td>Furniture</td>\n",
       "      <td>Chairs</td>\n",
       "      <td>731.9400</td>\n",
       "      <td>3</td>\n",
       "      <td>0.00</td>\n",
       "      <td>219.5820</td>\n",
       "      <td>512.3580</td>\n",
       "      <td>42.857143</td>\n",
       "    </tr>\n",
       "    <tr>\n",
       "      <th>2</th>\n",
       "      <td>Second Class</td>\n",
       "      <td>Corporate</td>\n",
       "      <td>United States</td>\n",
       "      <td>Los Angeles</td>\n",
       "      <td>California</td>\n",
       "      <td>90036</td>\n",
       "      <td>West</td>\n",
       "      <td>Office Supplies</td>\n",
       "      <td>Labels</td>\n",
       "      <td>14.6200</td>\n",
       "      <td>2</td>\n",
       "      <td>0.00</td>\n",
       "      <td>6.8714</td>\n",
       "      <td>7.7486</td>\n",
       "      <td>88.679245</td>\n",
       "    </tr>\n",
       "    <tr>\n",
       "      <th>3</th>\n",
       "      <td>Standard Class</td>\n",
       "      <td>Consumer</td>\n",
       "      <td>United States</td>\n",
       "      <td>Fort Lauderdale</td>\n",
       "      <td>Florida</td>\n",
       "      <td>33311</td>\n",
       "      <td>South</td>\n",
       "      <td>Furniture</td>\n",
       "      <td>Tables</td>\n",
       "      <td>957.5775</td>\n",
       "      <td>5</td>\n",
       "      <td>0.45</td>\n",
       "      <td>-383.0310</td>\n",
       "      <td>1340.6085</td>\n",
       "      <td>-28.571429</td>\n",
       "    </tr>\n",
       "    <tr>\n",
       "      <th>4</th>\n",
       "      <td>Standard Class</td>\n",
       "      <td>Consumer</td>\n",
       "      <td>United States</td>\n",
       "      <td>Fort Lauderdale</td>\n",
       "      <td>Florida</td>\n",
       "      <td>33311</td>\n",
       "      <td>South</td>\n",
       "      <td>Office Supplies</td>\n",
       "      <td>Storage</td>\n",
       "      <td>22.3680</td>\n",
       "      <td>2</td>\n",
       "      <td>0.20</td>\n",
       "      <td>2.5164</td>\n",
       "      <td>19.8516</td>\n",
       "      <td>12.676056</td>\n",
       "    </tr>\n",
       "  </tbody>\n",
       "</table>\n",
       "</div>"
      ],
      "text/plain": [
       "        Ship Mode    Segment        Country             City       State  \\\n",
       "0    Second Class   Consumer  United States        Henderson    Kentucky   \n",
       "1    Second Class   Consumer  United States        Henderson    Kentucky   \n",
       "2    Second Class  Corporate  United States      Los Angeles  California   \n",
       "3  Standard Class   Consumer  United States  Fort Lauderdale     Florida   \n",
       "4  Standard Class   Consumer  United States  Fort Lauderdale     Florida   \n",
       "\n",
       "   Postal Code Region         Category Sub-Category     Sales  Quantity  \\\n",
       "0        42420  South        Furniture    Bookcases  261.9600         2   \n",
       "1        42420  South        Furniture       Chairs  731.9400         3   \n",
       "2        90036   West  Office Supplies       Labels   14.6200         2   \n",
       "3        33311  South        Furniture       Tables  957.5775         5   \n",
       "4        33311  South  Office Supplies      Storage   22.3680         2   \n",
       "\n",
       "   Discount    Profit       Cost    Profit%  \n",
       "0      0.00   41.9136   220.0464  19.047619  \n",
       "1      0.00  219.5820   512.3580  42.857143  \n",
       "2      0.00    6.8714     7.7486  88.679245  \n",
       "3      0.45 -383.0310  1340.6085 -28.571429  \n",
       "4      0.20    2.5164    19.8516  12.676056  "
      ]
     },
     "execution_count": 13,
     "metadata": {},
     "output_type": "execute_result"
    }
   ],
   "source": [
    "data.head()"
   ]
  },
  {
   "cell_type": "markdown",
   "metadata": {},
   "source": [
    "## Multivariate Visualizations "
   ]
  },
  {
   "cell_type": "code",
   "execution_count": 14,
   "metadata": {},
   "outputs": [
    {
     "data": {
      "text/plain": [
       "Text(0.5, 1, 'Correlation between variables')"
      ]
     },
     "execution_count": 14,
     "metadata": {},
     "output_type": "execute_result"
    },
    {
     "data": {
      "image/png": "[encoded data removed]",
      "text/plain": [
       "<Figure size 432x288 with 2 Axes>"
      ]
     },
     "metadata": {
      "needs_background": "light"
     },
     "output_type": "display_data"
    }
   ],
   "source": [
    "# correlation matrix and heatmap\n",
    "datacorr = data.corr()\n",
    "sns.heatmap(datacorr, annot=True, cmap='RdYlGn')\n",
    "plt.title('Correlation between variables')"
   ]
  },
  {
   "cell_type": "markdown",
   "metadata": {},
   "source": [
    "## Finding modes of shipping products and observing which is more preferred mode of shipping?"
   ]
  },
  {
   "cell_type": "code",
   "execution_count": 15,
   "metadata": {},
   "outputs": [
    {
     "name": "stdout",
     "output_type": "stream",
     "text": [
      "First Class\n",
      "Same Day\n",
      "Second Class\n",
      "Standard Class\n"
     ]
    }
   ],
   "source": [
    "shipmodetypes = data.groupby('Ship Mode')\n",
    "for i,df in shipmodetypes:\n",
    "    print(i)"
   ]
  },
  {
   "cell_type": "code",
   "execution_count": 16,
   "metadata": {},
   "outputs": [
    {
     "data": {
      "text/plain": [
       "{'First Class': Int64Index([  35,   36,   44,   45,   55,   56,   57,   58,   59,   60,\n",
       "             ...\n",
       "             9913, 9923, 9924, 9925, 9926, 9927, 9933, 9961, 9962, 9981],\n",
       "            dtype='int64', length=1538),\n",
       " 'Same Day': Int64Index([ 366,  367,  368,  369,  657,  658,  664,  683,  684,  746,\n",
       "             ...\n",
       "             9718, 9745, 9746, 9772, 9786, 9871, 9872, 9928, 9929, 9963],\n",
       "            dtype='int64', length=543),\n",
       " 'Second Class': Int64Index([   0,    1,    2,   17,   18,   19,   20,   23,   25,   26,\n",
       "             ...\n",
       "             9953, 9954, 9955, 9960, 9964, 9965, 9966, 9980, 9989, 9993],\n",
       "            dtype='int64', length=1945),\n",
       " 'Standard Class': Int64Index([   3,    4,    5,    6,    7,    8,    9,   10,   11,   12,\n",
       "             ...\n",
       "             9982, 9983, 9984, 9985, 9986, 9987, 9988, 9990, 9991, 9992],\n",
       "            dtype='int64', length=5968)}"
      ]
     },
     "execution_count": 16,
     "metadata": {},
     "output_type": "execute_result"
    }
   ],
   "source": [
    "data.groupby('Ship Mode').groups"
   ]
  },
  {
   "cell_type": "code",
   "execution_count": 17,
   "metadata": {},
   "outputs": [
    {
     "data": {
      "text/plain": [
       "Standard Class    5968\n",
       "Second Class      1945\n",
       "First Class       1538\n",
       "Same Day           543\n",
       "Name: Ship Mode, dtype: int64"
      ]
     },
     "execution_count": 17,
     "metadata": {},
     "output_type": "execute_result"
    }
   ],
   "source": [
    "data['Ship Mode'].value_counts()"
   ]
  },
  {
   "cell_type": "code",
   "execution_count": 18,
   "metadata": {},
   "outputs": [
    {
     "data": {
      "text/plain": [
       "Text(0.5, 1.0, 'Ship Mode Preference')"
      ]
     },
     "execution_count": 18,
     "metadata": {},
     "output_type": "execute_result"
    },
    {
     "data": {
      "image/png": "[encoded data removed]",
      "text/plain": [
       "<Figure size 432x288 with 1 Axes>"
      ]
     },
     "metadata": {
      "needs_background": "light"
     },
     "output_type": "display_data"
    }
   ],
   "source": [
    "sns.histplot(x=data['Ship Mode'], color='g')\n",
    "plt.title('Ship Mode Preference')"
   ]
  },
  {
   "cell_type": "markdown",
   "metadata": {},
   "source": [
    "## Customer Segments"
   ]
  },
  {
   "cell_type": "code",
   "execution_count": 19,
   "metadata": {},
   "outputs": [
    {
     "name": "stdout",
     "output_type": "stream",
     "text": [
      "Consumer\n",
      "Corporate\n",
      "Home Office\n"
     ]
    }
   ],
   "source": [
    "segmenttypes = data.groupby('Segment')\n",
    "for i,df in segmenttypes:\n",
    "    print(i)"
   ]
  },
  {
   "cell_type": "code",
   "execution_count": 20,
   "metadata": {},
   "outputs": [
    {
     "data": {
      "text/plain": [
       "Consumer       5191\n",
       "Corporate      3020\n",
       "Home Office    1783\n",
       "Name: Segment, dtype: int64"
      ]
     },
     "execution_count": 20,
     "metadata": {},
     "output_type": "execute_result"
    }
   ],
   "source": [
    "data['Segment'].value_counts()"
   ]
  },
  {
   "cell_type": "code",
   "execution_count": 21,
   "metadata": {},
   "outputs": [
    {
     "data": {
      "text/plain": [
       "Text(0.5, 1.0, 'Customer Segments')"
      ]
     },
     "execution_count": 21,
     "metadata": {},
     "output_type": "execute_result"
    },
    {
     "data": {
      "image/png": "[encoded data removed]",
      "text/plain": [
       "<Figure size 432x288 with 1 Axes>"
      ]
     },
     "metadata": {
      "needs_background": "light"
     },
     "output_type": "display_data"
    }
   ],
   "source": [
    "sns.histplot(x=data['Segment'])\n",
    "plt.title('Customer Segments')"
   ]
  },
  {
   "cell_type": "markdown",
   "metadata": {},
   "source": [
    "## Category-wise Analysis"
   ]
  },
  {
   "cell_type": "code",
   "execution_count": 22,
   "metadata": {},
   "outputs": [
    {
     "name": "stdout",
     "output_type": "stream",
     "text": [
      "Furniture\n",
      "Office Supplies\n",
      "Technology\n"
     ]
    }
   ],
   "source": [
    "cat = data.groupby('Category')\n",
    "for i,df in cat:\n",
    "    print(i)"
   ]
  },
  {
   "cell_type": "code",
   "execution_count": 23,
   "metadata": {},
   "outputs": [
    {
     "data": {
      "text/plain": [
       "Text(0.5, 1.0, 'Categories of Products')"
      ]
     },
     "execution_count": 23,
     "metadata": {},
     "output_type": "execute_result"
    },
    {
     "data": {
      "image/png": "[encoded data removed]",
      "text/plain": [
       "<Figure size 432x288 with 1 Axes>"
      ]
     },
     "metadata": {
      "needs_background": "light"
     },
     "output_type": "display_data"
    }
   ],
   "source": [
    "sns.countplot(x=data['Category'])\n",
    "plt.title('Categories of Products')"
   ]
  },
  {
   "cell_type": "code",
   "execution_count": 24,
   "metadata": {},
   "outputs": [
    {
     "data": {
      "text/plain": [
       "Text(0.5, 1.0, 'Region-wise Ordered Product Categories')"
      ]
     },
     "execution_count": 24,
     "metadata": {},
     "output_type": "execute_result"
    },
    {
     "data": {
      "image/png": "[encoded data removed]",
      "text/plain": [
       "<Figure size 432x288 with 1 Axes>"
      ]
     },
     "metadata": {
      "needs_background": "light"
     },
     "output_type": "display_data"
    }
   ],
   "source": [
    "sns.countplot(x=data['Region'], hue=data['Category'])\n",
    "plt.title('Region-wise Ordered Product Categories')"
   ]
  },
  {
   "cell_type": "markdown",
   "metadata": {},
   "source": [
    "South region of the US orders less technology products and more office supplies, west orders more than any other region"
   ]
  },
  {
   "cell_type": "code",
   "execution_count": 25,
   "metadata": {},
   "outputs": [
    {
     "data": {
      "text/plain": [
       "<matplotlib.axes._subplots.AxesSubplot at 0x7f10244c7780>"
      ]
     },
     "execution_count": 25,
     "metadata": {},
     "output_type": "execute_result"
    },
    {
     "data": {
      "image/png": "[encoded data removed]",
      "text/plain": [
       "<Figure size 432x288 with 1 Axes>"
      ]
     },
     "metadata": {
      "needs_background": "light"
     },
     "output_type": "display_data"
    }
   ],
   "source": [
    "sns.scatterplot(x=data['Ship Mode'], y=data['Sales'], hue=data['Category'])"
   ]
  },
  {
   "cell_type": "code",
   "execution_count": 26,
   "metadata": {},
   "outputs": [
    {
     "name": "stdout",
     "output_type": "stream",
     "text": [
      "                      Profit        Sales\n",
      "Category                                 \n",
      "Furniture         18451.2728  741999.7953\n",
      "Office Supplies  122490.8008  719047.0320\n",
      "Technology       145454.9481  836154.0330\n"
     ]
    },
    {
     "data": {
      "text/plain": [
       "Text(0.5, 1.0, 'Category-wise Profit and Sale')"
      ]
     },
     "execution_count": 26,
     "metadata": {},
     "output_type": "execute_result"
    },
    {
     "data": {
      "image/png": "[encoded data removed]",
      "text/plain": [
       "<Figure size 432x288 with 1 Axes>"
      ]
     },
     "metadata": {
      "needs_background": "light"
     },
     "output_type": "display_data"
    }
   ],
   "source": [
    "ds =data.groupby('Category')['Profit','Sales'].agg('sum')\n",
    "print(ds)\n",
    "ds.plot.bar()\n",
    "plt.legend(loc='upper left')\n",
    "plt.title('Category-wise Profit and Sale')"
   ]
  },
  {
   "cell_type": "markdown",
   "metadata": {},
   "source": [
    "## Sub-Category-wise Analysis"
   ]
  },
  {
   "cell_type": "code",
   "execution_count": 27,
   "metadata": {},
   "outputs": [
    {
     "name": "stdout",
     "output_type": "stream",
     "text": [
      "Accessories\n",
      "Appliances\n",
      "Art\n",
      "Binders\n",
      "Bookcases\n",
      "Chairs\n",
      "Copiers\n",
      "Envelopes\n",
      "Fasteners\n",
      "Furnishings\n",
      "Labels\n",
      "Machines\n",
      "Paper\n",
      "Phones\n",
      "Storage\n",
      "Supplies\n",
      "Tables\n"
     ]
    }
   ],
   "source": [
    "subcatarr = []\n",
    "subcat = data.groupby('Sub-Category')\n",
    "for i,df in subcat:\n",
    "    print(i)\n",
    "    subcatarr.append(i)"
   ]
  },
  {
   "cell_type": "code",
   "execution_count": 28,
   "metadata": {},
   "outputs": [
    {
     "data": {
      "text/plain": [
       "Text(0.5, 1.0, 'Quantity of different Sub-Categories Ordered')"
      ]
     },
     "execution_count": 28,
     "metadata": {},
     "output_type": "execute_result"
    },
    {
     "data": {
      "image/png": "[encoded data removed]",
      "text/plain": [
       "<Figure size 720x720 with 1 Axes>"
      ]
     },
     "metadata": {},
     "output_type": "display_data"
    }
   ],
   "source": [
    "plt.figure(figsize=(10,10))\n",
    "data['Sub-Category'].value_counts().plot.pie(autopct=\"%1.1f%%\")\n",
    "plt.title('Quantity of different Sub-Categories Ordered')"
   ]
  },
  {
   "cell_type": "markdown",
   "metadata": {},
   "source": [
    "## Region-wise Analysis"
   ]
  },
  {
   "cell_type": "code",
   "execution_count": 29,
   "metadata": {},
   "outputs": [
    {
     "name": "stdout",
     "output_type": "stream",
     "text": [
      "Central\n",
      "East\n",
      "South\n",
      "West\n"
     ]
    }
   ],
   "source": [
    "regions = data.groupby('Region')\n",
    "for i,df in regions:\n",
    "    print(i)"
   ]
  },
  {
   "cell_type": "code",
   "execution_count": 30,
   "metadata": {},
   "outputs": [
    {
     "data": {
      "text/plain": [
       "Text(0.5, 1.0, 'Region-wise Profit and Sales')"
      ]
     },
     "execution_count": 30,
     "metadata": {},
     "output_type": "execute_result"
    },
    {
     "data": {
      "image/png": "[encoded data removed]",
      "text/plain": [
       "<Figure size 432x288 with 1 Axes>"
      ]
     },
     "metadata": {
      "needs_background": "light"
     },
     "output_type": "display_data"
    }
   ],
   "source": [
    "rw =data.groupby('Region')['Profit','Sales'].agg('sum')\n",
    "rw.plot.bar()\n",
    "plt.legend(loc='upper left')\n",
    "plt.title('Region-wise Profit and Sales')"
   ]
  },
  {
   "cell_type": "code",
   "execution_count": 31,
   "metadata": {},
   "outputs": [
    {
     "data": {
      "text/plain": [
       "<matplotlib.axes._subplots.AxesSubplot at 0x7f0ff44f4c18>"
      ]
     },
     "execution_count": 31,
     "metadata": {},
     "output_type": "execute_result"
    },
    {
     "data": {
      "image/png": "[encoded data removed]",
      "text/plain": [
       "<Figure size 720x720 with 1 Axes>"
      ]
     },
     "metadata": {},
     "output_type": "display_data"
    }
   ],
   "source": [
    "plt.figure(figsize=(10,10))\n",
    "data['Region'].value_counts().plot.pie(autopct=\"%1.1f%%\")"
   ]
  },
  {
   "cell_type": "code",
   "execution_count": null,
   "metadata": {},
   "outputs": [],
   "source": []
  },
  {
   "cell_type": "markdown",
   "metadata": {},
   "source": [
    "## City-wise Analysis"
   ]
  },
  {
   "cell_type": "code",
   "execution_count": 32,
   "metadata": {},
   "outputs": [],
   "source": [
    "city = []\n",
    "cities = data.groupby('City')\n",
    "for i,df in cities:\n",
    "    city.append(i)"
   ]
  },
  {
   "cell_type": "code",
   "execution_count": 33,
   "metadata": {},
   "outputs": [
    {
     "data": {
      "text/plain": [
       "['Aberdeen',\n",
       " 'Abilene',\n",
       " 'Akron',\n",
       " 'Albuquerque',\n",
       " 'Alexandria',\n",
       " 'Allen',\n",
       " 'Allentown',\n",
       " 'Altoona',\n",
       " 'Amarillo',\n",
       " 'Anaheim',\n",
       " 'Andover',\n",
       " 'Ann Arbor',\n",
       " 'Antioch',\n",
       " 'Apopka',\n",
       " 'Apple Valley',\n",
       " 'Appleton',\n",
       " 'Arlington',\n",
       " 'Arlington Heights',\n",
       " 'Arvada',\n",
       " 'Asheville',\n",
       " 'Athens',\n",
       " 'Atlanta',\n",
       " 'Atlantic City',\n",
       " 'Auburn',\n",
       " 'Aurora',\n",
       " 'Austin',\n",
       " 'Avondale',\n",
       " 'Bakersfield',\n",
       " 'Baltimore',\n",
       " 'Bangor',\n",
       " 'Bartlett',\n",
       " 'Bayonne',\n",
       " 'Baytown',\n",
       " 'Beaumont',\n",
       " 'Bedford',\n",
       " 'Belleville',\n",
       " 'Bellevue',\n",
       " 'Bellingham',\n",
       " 'Bethlehem',\n",
       " 'Beverly',\n",
       " 'Billings',\n",
       " 'Bloomington',\n",
       " 'Boca Raton',\n",
       " 'Boise',\n",
       " 'Bolingbrook',\n",
       " 'Bossier City',\n",
       " 'Bowling Green',\n",
       " 'Boynton Beach',\n",
       " 'Bozeman',\n",
       " 'Brentwood',\n",
       " 'Bridgeton',\n",
       " 'Bristol',\n",
       " 'Broken Arrow',\n",
       " 'Broomfield',\n",
       " 'Brownsville',\n",
       " 'Bryan',\n",
       " 'Buffalo',\n",
       " 'Buffalo Grove',\n",
       " 'Bullhead City',\n",
       " 'Burbank',\n",
       " 'Burlington',\n",
       " 'Caldwell',\n",
       " 'Camarillo',\n",
       " 'Cambridge',\n",
       " 'Canton',\n",
       " 'Carlsbad',\n",
       " 'Carol Stream',\n",
       " 'Carrollton',\n",
       " 'Cary',\n",
       " 'Cedar Hill',\n",
       " 'Cedar Rapids',\n",
       " 'Champaign',\n",
       " 'Chandler',\n",
       " 'Chapel Hill',\n",
       " 'Charlotte',\n",
       " 'Charlottesville',\n",
       " 'Chattanooga',\n",
       " 'Chesapeake',\n",
       " 'Chester',\n",
       " 'Cheyenne',\n",
       " 'Chicago',\n",
       " 'Chico',\n",
       " 'Chula Vista',\n",
       " 'Cincinnati',\n",
       " 'Citrus Heights',\n",
       " 'Clarksville',\n",
       " 'Cleveland',\n",
       " 'Clifton',\n",
       " 'Clinton',\n",
       " 'Clovis',\n",
       " 'Coachella',\n",
       " 'College Station',\n",
       " 'Colorado Springs',\n",
       " 'Columbia',\n",
       " 'Columbus',\n",
       " 'Commerce City',\n",
       " 'Concord',\n",
       " 'Conroe',\n",
       " 'Conway',\n",
       " 'Coon Rapids',\n",
       " 'Coppell',\n",
       " 'Coral Gables',\n",
       " 'Coral Springs',\n",
       " 'Corpus Christi',\n",
       " 'Costa Mesa',\n",
       " 'Cottage Grove',\n",
       " 'Covington',\n",
       " 'Cranston',\n",
       " 'Cuyahoga Falls',\n",
       " 'Dallas',\n",
       " 'Danbury',\n",
       " 'Danville',\n",
       " 'Davis',\n",
       " 'Daytona Beach',\n",
       " 'Dearborn',\n",
       " 'Dearborn Heights',\n",
       " 'Decatur',\n",
       " 'Deer Park',\n",
       " 'Delray Beach',\n",
       " 'Deltona',\n",
       " 'Denver',\n",
       " 'Des Moines',\n",
       " 'Des Plaines',\n",
       " 'Detroit',\n",
       " 'Dover',\n",
       " 'Draper',\n",
       " 'Dublin',\n",
       " 'Dubuque',\n",
       " 'Durham',\n",
       " 'Eagan',\n",
       " 'East Orange',\n",
       " 'East Point',\n",
       " 'Eau Claire',\n",
       " 'Edinburg',\n",
       " 'Edmond',\n",
       " 'Edmonds',\n",
       " 'El Cajon',\n",
       " 'El Paso',\n",
       " 'Elkhart',\n",
       " 'Elmhurst',\n",
       " 'Elyria',\n",
       " 'Encinitas',\n",
       " 'Englewood',\n",
       " 'Escondido',\n",
       " 'Eugene',\n",
       " 'Evanston',\n",
       " 'Everett',\n",
       " 'Fairfield',\n",
       " 'Fargo',\n",
       " 'Farmington',\n",
       " 'Fayetteville',\n",
       " 'Florence',\n",
       " 'Fort Collins',\n",
       " 'Fort Lauderdale',\n",
       " 'Fort Worth',\n",
       " 'Frankfort',\n",
       " 'Franklin',\n",
       " 'Freeport',\n",
       " 'Fremont',\n",
       " 'Fresno',\n",
       " 'Frisco',\n",
       " 'Gaithersburg',\n",
       " 'Garden City',\n",
       " 'Garland',\n",
       " 'Gastonia',\n",
       " 'Georgetown',\n",
       " 'Gilbert',\n",
       " 'Gladstone',\n",
       " 'Glendale',\n",
       " 'Glenview',\n",
       " 'Goldsboro',\n",
       " 'Grand Island',\n",
       " 'Grand Prairie',\n",
       " 'Grand Rapids',\n",
       " 'Grapevine',\n",
       " 'Great Falls',\n",
       " 'Greeley',\n",
       " 'Green Bay',\n",
       " 'Greensboro',\n",
       " 'Greenville',\n",
       " 'Greenwood',\n",
       " 'Gresham',\n",
       " 'Grove City',\n",
       " 'Gulfport',\n",
       " 'Hackensack',\n",
       " 'Hagerstown',\n",
       " 'Haltom City',\n",
       " 'Hamilton',\n",
       " 'Hampton',\n",
       " 'Harlingen',\n",
       " 'Harrisonburg',\n",
       " 'Hattiesburg',\n",
       " 'Helena',\n",
       " 'Hempstead',\n",
       " 'Henderson',\n",
       " 'Hendersonville',\n",
       " 'Hesperia',\n",
       " 'Hialeah',\n",
       " 'Hickory',\n",
       " 'Highland Park',\n",
       " 'Hillsboro',\n",
       " 'Holland',\n",
       " 'Hollywood',\n",
       " 'Holyoke',\n",
       " 'Homestead',\n",
       " 'Hoover',\n",
       " 'Hot Springs',\n",
       " 'Houston',\n",
       " 'Huntington Beach',\n",
       " 'Huntsville',\n",
       " 'Independence',\n",
       " 'Indianapolis',\n",
       " 'Inglewood',\n",
       " 'Iowa City',\n",
       " 'Irving',\n",
       " 'Jackson',\n",
       " 'Jacksonville',\n",
       " 'Jamestown',\n",
       " 'Jefferson City',\n",
       " 'Johnson City',\n",
       " 'Jonesboro',\n",
       " 'Jupiter',\n",
       " 'Keller',\n",
       " 'Kenner',\n",
       " 'Kenosha',\n",
       " 'Kent',\n",
       " 'Kirkwood',\n",
       " 'Kissimmee',\n",
       " 'Knoxville',\n",
       " 'La Crosse',\n",
       " 'La Mesa',\n",
       " 'La Porte',\n",
       " 'La Quinta',\n",
       " 'Lafayette',\n",
       " 'Laguna Niguel',\n",
       " 'Lake Charles',\n",
       " 'Lake Elsinore',\n",
       " 'Lake Forest',\n",
       " 'Lakeland',\n",
       " 'Lakeville',\n",
       " 'Lakewood',\n",
       " 'Lancaster',\n",
       " 'Lansing',\n",
       " 'Laredo',\n",
       " 'Las Cruces',\n",
       " 'Las Vegas',\n",
       " 'Laurel',\n",
       " 'Lawrence',\n",
       " 'Lawton',\n",
       " 'Layton',\n",
       " 'League City',\n",
       " 'Lebanon',\n",
       " 'Lehi',\n",
       " 'Leominster',\n",
       " 'Lewiston',\n",
       " 'Lincoln Park',\n",
       " 'Linden',\n",
       " 'Lindenhurst',\n",
       " 'Little Rock',\n",
       " 'Littleton',\n",
       " 'Lodi',\n",
       " 'Logan',\n",
       " 'Long Beach',\n",
       " 'Longmont',\n",
       " 'Longview',\n",
       " 'Lorain',\n",
       " 'Los Angeles',\n",
       " 'Louisville',\n",
       " 'Loveland',\n",
       " 'Lowell',\n",
       " 'Lubbock',\n",
       " 'Macon',\n",
       " 'Madison',\n",
       " 'Malden',\n",
       " 'Manchester',\n",
       " 'Manhattan',\n",
       " 'Mansfield',\n",
       " 'Manteca',\n",
       " 'Maple Grove',\n",
       " 'Margate',\n",
       " 'Marietta',\n",
       " 'Marion',\n",
       " 'Marlborough',\n",
       " 'Marysville',\n",
       " 'Mason',\n",
       " 'Mcallen',\n",
       " 'Medford',\n",
       " 'Medina',\n",
       " 'Melbourne',\n",
       " 'Memphis',\n",
       " 'Mentor',\n",
       " 'Meriden',\n",
       " 'Meridian',\n",
       " 'Mesa',\n",
       " 'Mesquite',\n",
       " 'Miami',\n",
       " 'Middletown',\n",
       " 'Midland',\n",
       " 'Milford',\n",
       " 'Milwaukee',\n",
       " 'Minneapolis',\n",
       " 'Miramar',\n",
       " 'Mishawaka',\n",
       " 'Mission Viejo',\n",
       " 'Missoula',\n",
       " 'Missouri City',\n",
       " 'Mobile',\n",
       " 'Modesto',\n",
       " 'Monroe',\n",
       " 'Montebello',\n",
       " 'Montgomery',\n",
       " 'Moorhead',\n",
       " 'Moreno Valley',\n",
       " 'Morgan Hill',\n",
       " 'Morristown',\n",
       " 'Mount Pleasant',\n",
       " 'Mount Vernon',\n",
       " 'Murfreesboro',\n",
       " 'Murray',\n",
       " 'Murrieta',\n",
       " 'Muskogee',\n",
       " 'Naperville',\n",
       " 'Nashua',\n",
       " 'Nashville',\n",
       " 'New Albany',\n",
       " 'New Bedford',\n",
       " 'New Brunswick',\n",
       " 'New Castle',\n",
       " 'New Rochelle',\n",
       " 'New York City',\n",
       " 'Newark',\n",
       " 'Newport News',\n",
       " 'Niagara Falls',\n",
       " 'Noblesville',\n",
       " 'Norfolk',\n",
       " 'Normal',\n",
       " 'Norman',\n",
       " 'North Charleston',\n",
       " 'North Las Vegas',\n",
       " 'North Miami',\n",
       " 'Norwich',\n",
       " 'Oak Park',\n",
       " 'Oakland',\n",
       " 'Oceanside',\n",
       " 'Odessa',\n",
       " 'Oklahoma City',\n",
       " 'Olathe',\n",
       " 'Olympia',\n",
       " 'Omaha',\n",
       " 'Ontario',\n",
       " 'Orange',\n",
       " 'Orem',\n",
       " 'Orland Park',\n",
       " 'Orlando',\n",
       " 'Ormond Beach',\n",
       " 'Oswego',\n",
       " 'Overland Park',\n",
       " 'Owensboro',\n",
       " 'Oxnard',\n",
       " 'Palatine',\n",
       " 'Palm Coast',\n",
       " 'Park Ridge',\n",
       " 'Parker',\n",
       " 'Parma',\n",
       " 'Pasadena',\n",
       " 'Pasco',\n",
       " 'Passaic',\n",
       " 'Paterson',\n",
       " 'Pearland',\n",
       " 'Pembroke Pines',\n",
       " 'Pensacola',\n",
       " 'Peoria',\n",
       " 'Perth Amboy',\n",
       " 'Pharr',\n",
       " 'Philadelphia',\n",
       " 'Phoenix',\n",
       " 'Pico Rivera',\n",
       " 'Pine Bluff',\n",
       " 'Plainfield',\n",
       " 'Plano',\n",
       " 'Plantation',\n",
       " 'Pleasant Grove',\n",
       " 'Pocatello',\n",
       " 'Pomona',\n",
       " 'Pompano Beach',\n",
       " 'Port Arthur',\n",
       " 'Port Orange',\n",
       " 'Port Saint Lucie',\n",
       " 'Portage',\n",
       " 'Portland',\n",
       " 'Providence',\n",
       " 'Provo',\n",
       " 'Pueblo',\n",
       " 'Quincy',\n",
       " 'Raleigh',\n",
       " 'Rancho Cucamonga',\n",
       " 'Rapid City',\n",
       " 'Reading',\n",
       " 'Redding',\n",
       " 'Redlands',\n",
       " 'Redmond',\n",
       " 'Redondo Beach',\n",
       " 'Redwood City',\n",
       " 'Reno',\n",
       " 'Renton',\n",
       " 'Revere',\n",
       " 'Richardson',\n",
       " 'Richmond',\n",
       " 'Rio Rancho',\n",
       " 'Riverside',\n",
       " 'Rochester',\n",
       " 'Rochester Hills',\n",
       " 'Rock Hill',\n",
       " 'Rockford',\n",
       " 'Rockville',\n",
       " 'Rogers',\n",
       " 'Rome',\n",
       " 'Romeoville',\n",
       " 'Roseville',\n",
       " 'Roswell',\n",
       " 'Round Rock',\n",
       " 'Royal Oak',\n",
       " 'Sacramento',\n",
       " 'Saginaw',\n",
       " 'Saint Charles',\n",
       " 'Saint Cloud',\n",
       " 'Saint Louis',\n",
       " 'Saint Paul',\n",
       " 'Saint Peters',\n",
       " 'Saint Petersburg',\n",
       " 'Salem',\n",
       " 'Salinas',\n",
       " 'Salt Lake City',\n",
       " 'San Angelo',\n",
       " 'San Antonio',\n",
       " 'San Bernardino',\n",
       " 'San Clemente',\n",
       " 'San Diego',\n",
       " 'San Francisco',\n",
       " 'San Gabriel',\n",
       " 'San Jose',\n",
       " 'San Luis Obispo',\n",
       " 'San Marcos',\n",
       " 'San Mateo',\n",
       " 'Sandy Springs',\n",
       " 'Sanford',\n",
       " 'Santa Ana',\n",
       " 'Santa Barbara',\n",
       " 'Santa Clara',\n",
       " 'Santa Fe',\n",
       " 'Santa Maria',\n",
       " 'Scottsdale',\n",
       " 'Seattle',\n",
       " 'Sheboygan',\n",
       " 'Shelton',\n",
       " 'Sierra Vista',\n",
       " 'Sioux Falls',\n",
       " 'Skokie',\n",
       " 'Smyrna',\n",
       " 'South Bend',\n",
       " 'Southaven',\n",
       " 'Sparks',\n",
       " 'Spokane',\n",
       " 'Springdale',\n",
       " 'Springfield',\n",
       " 'Sterling Heights',\n",
       " 'Stockton',\n",
       " 'Suffolk',\n",
       " 'Summerville',\n",
       " 'Sunnyvale',\n",
       " 'Superior',\n",
       " 'Tallahassee',\n",
       " 'Tamarac',\n",
       " 'Tampa',\n",
       " 'Taylor',\n",
       " 'Temecula',\n",
       " 'Tempe',\n",
       " 'Texarkana',\n",
       " 'Texas City',\n",
       " 'The Colony',\n",
       " 'Thomasville',\n",
       " 'Thornton',\n",
       " 'Thousand Oaks',\n",
       " 'Tigard',\n",
       " 'Tinley Park',\n",
       " 'Toledo',\n",
       " 'Torrance',\n",
       " 'Trenton',\n",
       " 'Troy',\n",
       " 'Tucson',\n",
       " 'Tulsa',\n",
       " 'Tuscaloosa',\n",
       " 'Twin Falls',\n",
       " 'Tyler',\n",
       " 'Urbandale',\n",
       " 'Utica',\n",
       " 'Vacaville',\n",
       " 'Vallejo',\n",
       " 'Vancouver',\n",
       " 'Vineland',\n",
       " 'Virginia Beach',\n",
       " 'Visalia',\n",
       " 'Waco',\n",
       " 'Warner Robins',\n",
       " 'Warwick',\n",
       " 'Washington',\n",
       " 'Waterbury',\n",
       " 'Waterloo',\n",
       " 'Watertown',\n",
       " 'Waukesha',\n",
       " 'Wausau',\n",
       " 'Waynesboro',\n",
       " 'West Allis',\n",
       " 'West Jordan',\n",
       " 'West Palm Beach',\n",
       " 'Westfield',\n",
       " 'Westland',\n",
       " 'Westminster',\n",
       " 'Wheeling',\n",
       " 'Whittier',\n",
       " 'Wichita',\n",
       " 'Wilmington',\n",
       " 'Wilson',\n",
       " 'Woodbury',\n",
       " 'Woodland',\n",
       " 'Woodstock',\n",
       " 'Woonsocket',\n",
       " 'Yonkers',\n",
       " 'York',\n",
       " 'Yucaipa',\n",
       " 'Yuma']"
      ]
     },
     "execution_count": 33,
     "metadata": {},
     "output_type": "execute_result"
    }
   ],
   "source": [
    "city"
   ]
  },
  {
   "cell_type": "code",
   "execution_count": 34,
   "metadata": {},
   "outputs": [
    {
     "data": {
      "text/plain": [
       "531"
      ]
     },
     "execution_count": 34,
     "metadata": {},
     "output_type": "execute_result"
    }
   ],
   "source": [
    "len(city)"
   ]
  },
  {
   "cell_type": "code",
   "execution_count": 35,
   "metadata": {},
   "outputs": [
    {
     "data": {
      "text/plain": [
       "New York City    915\n",
       "Los Angeles      747\n",
       "Philadelphia     537\n",
       "San Francisco    510\n",
       "Seattle          428\n",
       "                ... \n",
       "Ormond Beach       1\n",
       "Port Orange        1\n",
       "Grand Island       1\n",
       "Elyria             1\n",
       "Tinley Park        1\n",
       "Name: City, Length: 531, dtype: int64"
      ]
     },
     "execution_count": 35,
     "metadata": {},
     "output_type": "execute_result"
    }
   ],
   "source": [
    "data['City'].value_counts()"
   ]
  },
  {
   "cell_type": "code",
   "execution_count": 36,
   "metadata": {},
   "outputs": [
    {
     "data": {
      "text/plain": [
       "1"
      ]
     },
     "execution_count": 36,
     "metadata": {},
     "output_type": "execute_result"
    }
   ],
   "source": [
    "data['City'].value_counts().min()"
   ]
  },
  {
   "cell_type": "code",
   "execution_count": 37,
   "metadata": {},
   "outputs": [
    {
     "data": {
      "text/plain": [
       "915"
      ]
     },
     "execution_count": 37,
     "metadata": {},
     "output_type": "execute_result"
    }
   ],
   "source": [
    "data['City'].value_counts().max()"
   ]
  },
  {
   "cell_type": "code",
   "execution_count": 38,
   "metadata": {},
   "outputs": [
    {
     "data": {
      "text/html": [
       "<div>\n",
       "<style scoped>\n",
       "    .dataframe tbody tr th:only-of-type {\n",
       "        vertical-align: middle;\n",
       "    }\n",
       "\n",
       "    .dataframe tbody tr th {\n",
       "        vertical-align: top;\n",
       "    }\n",
       "\n",
       "    .dataframe thead th {\n",
       "        text-align: right;\n",
       "    }\n",
       "</style>\n",
       "<table border=\"1\" class=\"dataframe\">\n",
       "  <thead>\n",
       "    <tr style=\"text-align: right;\">\n",
       "      <th></th>\n",
       "      <th>Ship Mode</th>\n",
       "      <th>Segment</th>\n",
       "      <th>Country</th>\n",
       "      <th>City</th>\n",
       "      <th>State</th>\n",
       "      <th>Postal Code</th>\n",
       "      <th>Region</th>\n",
       "      <th>Category</th>\n",
       "      <th>Sub-Category</th>\n",
       "      <th>Sales</th>\n",
       "      <th>Quantity</th>\n",
       "      <th>Discount</th>\n",
       "      <th>Profit</th>\n",
       "      <th>Cost</th>\n",
       "      <th>Profit%</th>\n",
       "    </tr>\n",
       "  </thead>\n",
       "  <tbody>\n",
       "    <tr>\n",
       "      <th>53</th>\n",
       "      <td>Standard Class</td>\n",
       "      <td>Corporate</td>\n",
       "      <td>United States</td>\n",
       "      <td>New York City</td>\n",
       "      <td>New York</td>\n",
       "      <td>10024</td>\n",
       "      <td>East</td>\n",
       "      <td>Office Supplies</td>\n",
       "      <td>Fasteners</td>\n",
       "      <td>15.260</td>\n",
       "      <td>7</td>\n",
       "      <td>0.0</td>\n",
       "      <td>6.2566</td>\n",
       "      <td>9.0034</td>\n",
       "      <td>69.491525</td>\n",
       "    </tr>\n",
       "    <tr>\n",
       "      <th>54</th>\n",
       "      <td>Standard Class</td>\n",
       "      <td>Corporate</td>\n",
       "      <td>United States</td>\n",
       "      <td>New York City</td>\n",
       "      <td>New York</td>\n",
       "      <td>10024</td>\n",
       "      <td>East</td>\n",
       "      <td>Technology</td>\n",
       "      <td>Phones</td>\n",
       "      <td>1029.950</td>\n",
       "      <td>5</td>\n",
       "      <td>0.0</td>\n",
       "      <td>298.6855</td>\n",
       "      <td>731.2645</td>\n",
       "      <td>40.845070</td>\n",
       "    </tr>\n",
       "    <tr>\n",
       "      <th>70</th>\n",
       "      <td>Standard Class</td>\n",
       "      <td>Consumer</td>\n",
       "      <td>United States</td>\n",
       "      <td>New York City</td>\n",
       "      <td>New York</td>\n",
       "      <td>10009</td>\n",
       "      <td>East</td>\n",
       "      <td>Office Supplies</td>\n",
       "      <td>Binders</td>\n",
       "      <td>4.616</td>\n",
       "      <td>1</td>\n",
       "      <td>0.2</td>\n",
       "      <td>1.7310</td>\n",
       "      <td>2.8850</td>\n",
       "      <td>60.000000</td>\n",
       "    </tr>\n",
       "    <tr>\n",
       "      <th>96</th>\n",
       "      <td>Second Class</td>\n",
       "      <td>Home Office</td>\n",
       "      <td>United States</td>\n",
       "      <td>New York City</td>\n",
       "      <td>New York</td>\n",
       "      <td>10009</td>\n",
       "      <td>East</td>\n",
       "      <td>Furniture</td>\n",
       "      <td>Furnishings</td>\n",
       "      <td>96.530</td>\n",
       "      <td>7</td>\n",
       "      <td>0.0</td>\n",
       "      <td>40.5426</td>\n",
       "      <td>55.9874</td>\n",
       "      <td>72.413793</td>\n",
       "    </tr>\n",
       "    <tr>\n",
       "      <th>110</th>\n",
       "      <td>Standard Class</td>\n",
       "      <td>Corporate</td>\n",
       "      <td>United States</td>\n",
       "      <td>New York City</td>\n",
       "      <td>New York</td>\n",
       "      <td>10035</td>\n",
       "      <td>East</td>\n",
       "      <td>Furniture</td>\n",
       "      <td>Furnishings</td>\n",
       "      <td>41.960</td>\n",
       "      <td>2</td>\n",
       "      <td>0.0</td>\n",
       "      <td>10.9096</td>\n",
       "      <td>31.0504</td>\n",
       "      <td>35.135135</td>\n",
       "    </tr>\n",
       "    <tr>\n",
       "      <th>...</th>\n",
       "      <td>...</td>\n",
       "      <td>...</td>\n",
       "      <td>...</td>\n",
       "      <td>...</td>\n",
       "      <td>...</td>\n",
       "      <td>...</td>\n",
       "      <td>...</td>\n",
       "      <td>...</td>\n",
       "      <td>...</td>\n",
       "      <td>...</td>\n",
       "      <td>...</td>\n",
       "      <td>...</td>\n",
       "      <td>...</td>\n",
       "      <td>...</td>\n",
       "      <td>...</td>\n",
       "    </tr>\n",
       "    <tr>\n",
       "      <th>9926</th>\n",
       "      <td>First Class</td>\n",
       "      <td>Corporate</td>\n",
       "      <td>United States</td>\n",
       "      <td>New York City</td>\n",
       "      <td>New York</td>\n",
       "      <td>10035</td>\n",
       "      <td>East</td>\n",
       "      <td>Technology</td>\n",
       "      <td>Phones</td>\n",
       "      <td>199.980</td>\n",
       "      <td>2</td>\n",
       "      <td>0.0</td>\n",
       "      <td>53.9946</td>\n",
       "      <td>145.9854</td>\n",
       "      <td>36.986301</td>\n",
       "    </tr>\n",
       "    <tr>\n",
       "      <th>9927</th>\n",
       "      <td>First Class</td>\n",
       "      <td>Corporate</td>\n",
       "      <td>United States</td>\n",
       "      <td>New York City</td>\n",
       "      <td>New York</td>\n",
       "      <td>10035</td>\n",
       "      <td>East</td>\n",
       "      <td>Office Supplies</td>\n",
       "      <td>Storage</td>\n",
       "      <td>83.920</td>\n",
       "      <td>4</td>\n",
       "      <td>0.0</td>\n",
       "      <td>20.1408</td>\n",
       "      <td>63.7792</td>\n",
       "      <td>31.578947</td>\n",
       "    </tr>\n",
       "    <tr>\n",
       "      <th>9938</th>\n",
       "      <td>Standard Class</td>\n",
       "      <td>Corporate</td>\n",
       "      <td>United States</td>\n",
       "      <td>New York City</td>\n",
       "      <td>New York</td>\n",
       "      <td>10009</td>\n",
       "      <td>East</td>\n",
       "      <td>Furniture</td>\n",
       "      <td>Furnishings</td>\n",
       "      <td>60.350</td>\n",
       "      <td>5</td>\n",
       "      <td>0.0</td>\n",
       "      <td>19.9155</td>\n",
       "      <td>40.4345</td>\n",
       "      <td>49.253731</td>\n",
       "    </tr>\n",
       "    <tr>\n",
       "      <th>9939</th>\n",
       "      <td>Standard Class</td>\n",
       "      <td>Corporate</td>\n",
       "      <td>United States</td>\n",
       "      <td>New York City</td>\n",
       "      <td>New York</td>\n",
       "      <td>10009</td>\n",
       "      <td>East</td>\n",
       "      <td>Office Supplies</td>\n",
       "      <td>Supplies</td>\n",
       "      <td>35.520</td>\n",
       "      <td>4</td>\n",
       "      <td>0.0</td>\n",
       "      <td>9.9456</td>\n",
       "      <td>25.5744</td>\n",
       "      <td>38.888889</td>\n",
       "    </tr>\n",
       "    <tr>\n",
       "      <th>9940</th>\n",
       "      <td>Standard Class</td>\n",
       "      <td>Corporate</td>\n",
       "      <td>United States</td>\n",
       "      <td>New York City</td>\n",
       "      <td>New York</td>\n",
       "      <td>10009</td>\n",
       "      <td>East</td>\n",
       "      <td>Office Supplies</td>\n",
       "      <td>Art</td>\n",
       "      <td>11.200</td>\n",
       "      <td>7</td>\n",
       "      <td>0.0</td>\n",
       "      <td>4.8160</td>\n",
       "      <td>6.3840</td>\n",
       "      <td>75.438596</td>\n",
       "    </tr>\n",
       "  </tbody>\n",
       "</table>\n",
       "<p>915 rows × 15 columns</p>\n",
       "</div>"
      ],
      "text/plain": [
       "           Ship Mode      Segment        Country           City     State  \\\n",
       "53    Standard Class    Corporate  United States  New York City  New York   \n",
       "54    Standard Class    Corporate  United States  New York City  New York   \n",
       "70    Standard Class     Consumer  United States  New York City  New York   \n",
       "96      Second Class  Home Office  United States  New York City  New York   \n",
       "110   Standard Class    Corporate  United States  New York City  New York   \n",
       "...              ...          ...            ...            ...       ...   \n",
       "9926     First Class    Corporate  United States  New York City  New York   \n",
       "9927     First Class    Corporate  United States  New York City  New York   \n",
       "9938  Standard Class    Corporate  United States  New York City  New York   \n",
       "9939  Standard Class    Corporate  United States  New York City  New York   \n",
       "9940  Standard Class    Corporate  United States  New York City  New York   \n",
       "\n",
       "      Postal Code Region         Category Sub-Category     Sales  Quantity  \\\n",
       "53          10024   East  Office Supplies    Fasteners    15.260         7   \n",
       "54          10024   East       Technology       Phones  1029.950         5   \n",
       "70          10009   East  Office Supplies      Binders     4.616         1   \n",
       "96          10009   East        Furniture  Furnishings    96.530         7   \n",
       "110         10035   East        Furniture  Furnishings    41.960         2   \n",
       "...           ...    ...              ...          ...       ...       ...   \n",
       "9926        10035   East       Technology       Phones   199.980         2   \n",
       "9927        10035   East  Office Supplies      Storage    83.920         4   \n",
       "9938        10009   East        Furniture  Furnishings    60.350         5   \n",
       "9939        10009   East  Office Supplies     Supplies    35.520         4   \n",
       "9940        10009   East  Office Supplies          Art    11.200         7   \n",
       "\n",
       "      Discount    Profit      Cost    Profit%  \n",
       "53         0.0    6.2566    9.0034  69.491525  \n",
       "54         0.0  298.6855  731.2645  40.845070  \n",
       "70         0.2    1.7310    2.8850  60.000000  \n",
       "96         0.0   40.5426   55.9874  72.413793  \n",
       "110        0.0   10.9096   31.0504  35.135135  \n",
       "...        ...       ...       ...        ...  \n",
       "9926       0.0   53.9946  145.9854  36.986301  \n",
       "9927       0.0   20.1408   63.7792  31.578947  \n",
       "9938       0.0   19.9155   40.4345  49.253731  \n",
       "9939       0.0    9.9456   25.5744  38.888889  \n",
       "9940       0.0    4.8160    6.3840  75.438596  \n",
       "\n",
       "[915 rows x 15 columns]"
      ]
     },
     "execution_count": 38,
     "metadata": {},
     "output_type": "execute_result"
    }
   ],
   "source": [
    "data[data['City']=='New York City']"
   ]
  },
  {
   "cell_type": "markdown",
   "metadata": {},
   "source": [
    ">> # Thank you "
   ]
  },
  {
   "cell_type": "code",
   "execution_count": null,
   "metadata": {},
   "outputs": [],
   "source": []
  }
 ],
 "metadata": {
  "kernelspec": {
   "display_name": "Python 3",
   "language": "python",
   "name": "python3"
  },
  "language_info": {
   "codemirror_mode": {
    "name": "ipython",
    "version": 3
   },
   "file_extension": ".py",
   "mimetype": "text/x-python",
   "name": "python",
   "nbconvert_exporter": "python",
   "pygments_lexer": "ipython3",
   "version": "3.6.9"
  }
 },
 "nbformat": 4,
 "nbformat_minor": 4
}
